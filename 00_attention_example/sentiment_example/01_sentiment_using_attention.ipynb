{
 "cells": [
  {
   "cell_type": "code",
   "execution_count": 1,
   "id": "968b5867-9e88-42da-8eaa-75a44731143d",
   "metadata": {},
   "outputs": [],
   "source": [
    "import pandas as pd\n",
    "import tiktoken\n",
    "import re\n",
    "from train_v2 import Dictionary, Model\n",
    "import torch\n",
    "from torch.nn.utils.rnn import pad_sequence\n",
    "import numpy as np\n",
    "import torch.nn as nn\n",
    "from sklearn.model_selection import train_test_split\n",
    "pd.set_option('display.max_rows', 5)\n",
    "pd.set_option('display.max_colwidth', None) "
   ]
  },
  {
   "cell_type": "code",
   "execution_count": 4,
   "id": "d82f29d3-8112-44bc-a7b5-4e821adeefab",
   "metadata": {},
   "outputs": [],
   "source": [
    "max_len = 32\n",
    "file_path = \"imdb_clean.csv\""
   ]
  },
  {
   "cell_type": "code",
   "execution_count": 5,
   "id": "32f254a7-7608-482e-87fb-0a6035c66cb3",
   "metadata": {},
   "outputs": [],
   "source": [
    "d = Dictionary(file_path=file_path, max_len=max_len)"
   ]
  },
  {
   "cell_type": "code",
   "execution_count": 6,
   "id": "0560cc4d-cab2-4b92-81f6-44836d409354",
   "metadata": {},
   "outputs": [
    {
     "data": {
      "text/plain": [
       "41676"
      ]
     },
     "execution_count": 6,
     "metadata": {},
     "output_type": "execute_result"
    }
   ],
   "source": [
    "len(d.vocab)"
   ]
  },
  {
   "cell_type": "code",
   "execution_count": 7,
   "id": "c7237d65-756f-4f5b-88b3-0a89eee4e79f",
   "metadata": {},
   "outputs": [],
   "source": [
    "df = pd.read_csv(file_path)\n",
    "max_size = max_len\n",
    "df['small_review'] = df['review'].str.lower().str.split(n=max_size).str[:max_size].str.join(' ')\n",
    "df['small_review'] = df['small_review'].apply(lambda x:  re.sub(r'[^a-z ]+', ' ', x))"
   ]
  },
  {
   "cell_type": "code",
   "execution_count": 6,
   "id": "5c704f8d-045e-4325-b147-80cba4ebbec7",
   "metadata": {},
   "outputs": [],
   "source": [
    "# Pre pare data"
   ]
  },
  {
   "cell_type": "code",
   "execution_count": 8,
   "id": "cbae30e4-4777-43ff-9037-9f5b605ba3e7",
   "metadata": {},
   "outputs": [],
   "source": [
    "def get_data(df: pd.DataFrame, data: Dictionary) -> (torch.Tensor, torch.Tensor):\n",
    "    x = []\n",
    "    y = []\n",
    "    max_size = 32\n",
    "    for index, row in df.iterrows():\n",
    "        encoded = data.encode(row['small_review'])[0:max_size]\n",
    "        length = len(encoded)\n",
    "        encoded = np.pad(encoded, (0, max_size - length), 'constant')\n",
    "        x.append(torch.tensor(encoded))\n",
    "\n",
    "        y.append(row['sentiment'])\n",
    "    x = np.vstack(x)\n",
    "    y = np.vstack(y)\n",
    "\n",
    "    return torch.tensor(x, dtype=torch.int), torch.tensor(y, dtype=torch.float32)\n"
   ]
  },
  {
   "cell_type": "code",
   "execution_count": 9,
   "id": "edb6c781-094c-4aec-8109-29f711d9f284",
   "metadata": {},
   "outputs": [],
   "source": [
    "def encode_custom_text(text, data, max_size):\n",
    "    encoded = data.encode(text)[0:max_size]\n",
    "    length = len(encoded)\n",
    "    encoded = np.pad(encoded, (0, max_size - length), 'constant')\n",
    "    return encoded"
   ]
  },
  {
   "cell_type": "code",
   "execution_count": 10,
   "id": "eb312572-d285-49e4-a93e-d0b8ab85443c",
   "metadata": {},
   "outputs": [],
   "source": [
    "x, y = get_data(df,d)"
   ]
  },
  {
   "cell_type": "code",
   "execution_count": 11,
   "id": "68b1ff6e-1333-403c-9af0-0e016f6660a4",
   "metadata": {},
   "outputs": [
    {
     "data": {
      "text/plain": [
       "torch.Size([50000, 32])"
      ]
     },
     "execution_count": 11,
     "metadata": {},
     "output_type": "execute_result"
    }
   ],
   "source": [
    "x.shape"
   ]
  },
  {
   "cell_type": "code",
   "execution_count": 12,
   "id": "7fd7775b-7c95-49ad-a5a4-f4867220a40a",
   "metadata": {},
   "outputs": [
    {
     "data": {
      "text/plain": [
       "torch.Size([50000, 1])"
      ]
     },
     "execution_count": 12,
     "metadata": {},
     "output_type": "execute_result"
    }
   ],
   "source": [
    "y.shape"
   ]
  },
  {
   "cell_type": "code",
   "execution_count": 13,
   "id": "2f3d47e2-e360-417f-b87d-fbf3394c5305",
   "metadata": {},
   "outputs": [
    {
     "data": {
      "text/plain": [
       "tensor([26010, 25854, 37025, 26279, 30813, 16439, 23333, 37016,   592, 40296,\n",
       "        19787, 26556, 11997, 41431, 21588,  2948, 17346, 37111,  1729, 31015,\n",
       "         1918, 37157, 19084, 12374, 40568, 16313, 40902, 23106, 37025, 13525,\n",
       "        37129, 37016], dtype=torch.int32)"
      ]
     },
     "execution_count": 13,
     "metadata": {},
     "output_type": "execute_result"
    }
   ],
   "source": [
    "x[0]"
   ]
  },
  {
   "cell_type": "code",
   "execution_count": 14,
   "id": "23d080b2-cd19-42f8-b66b-2d955c21da20",
   "metadata": {},
   "outputs": [
    {
     "data": {
      "text/plain": [
       "tensor([1.])"
      ]
     },
     "execution_count": 14,
     "metadata": {},
     "output_type": "execute_result"
    }
   ],
   "source": [
    "y[0]"
   ]
  },
  {
   "cell_type": "code",
   "execution_count": 15,
   "id": "0afb8879-90b0-4f86-8726-f7ed96e97ade",
   "metadata": {},
   "outputs": [],
   "source": [
    "embedding_dim = 16\n",
    "max_len = 32\n",
    "num_epochs = 5\n",
    "mini_batch_size = 64\n",
    "qkv_dim = 8\n",
    "hidden = 16\n",
    "\n",
    "vocab_size = len(d.vocab)\n",
    "\n",
    "model = Model(embedding_dim=embedding_dim, vocab_size=vocab_size, max_len=max_len,qkv_dim=qkv_dim, hidden=hidden)"
   ]
  },
  {
   "cell_type": "code",
   "execution_count": 16,
   "id": "125432d7-e78f-4052-ab59-13da7b6d17b5",
   "metadata": {},
   "outputs": [
    {
     "data": {
      "text/plain": [
       "<All keys matched successfully>"
      ]
     },
     "execution_count": 16,
     "metadata": {},
     "output_type": "execute_result"
    }
   ],
   "source": [
    "model.load_state_dict(torch.load('./imdb_sentiment_model.pth'))\n"
   ]
  },
  {
   "cell_type": "code",
   "execution_count": 17,
   "id": "0dbbbe6b-dc93-4a9d-8102-a7ffe148ef0d",
   "metadata": {},
   "outputs": [],
   "source": [
    "def predict_sentiment(text):\n",
    "    text = text.lower()\n",
    "    encoded = encode_custom_text(text, d, max_size)\n",
    "    #print(encoded)\n",
    "    test_input = torch.tensor(encoded)\n",
    "    test_input = test_input.reshape(1, test_input.shape[0])\n",
    "    with torch.inference_mode():\n",
    "        y_pred = model(test_input)\n",
    "        sentiment = \"\"\n",
    "        if torch.round(y_pred).item() == 1.0 :\n",
    "            sentiment = \"Positive\"\n",
    "        else:\n",
    "            sentiment = \"Negative\"\n",
    "    return sentiment, y_pred"
   ]
  },
  {
   "cell_type": "code",
   "execution_count": 56,
   "id": "c541ff7d-41c1-49e3-92da-50d63a9e0b90",
   "metadata": {},
   "outputs": [
    {
     "name": "stdout",
     "output_type": "stream",
     "text": [
      "Negative : 0.47692060470581055\n"
     ]
    }
   ],
   "source": [
    "text = \"robot jox is a great little film ok some of the sets are bad and the acting is not that great but the special effects are very good for a film of\"\n",
    "sentiment, y_pred = predict_sentiment(text)\n",
    "print(f\"{sentiment} : {y_pred.item()}\")"
   ]
  },
  {
   "cell_type": "code",
   "execution_count": 22,
   "id": "4950aeee-9d6a-4b88-9766-e47a456490f5",
   "metadata": {},
   "outputs": [],
   "source": [
    "train_index, test_index = train_test_split(df.index,test_size=0.1,random_state=42)"
   ]
  },
  {
   "cell_type": "code",
   "execution_count": 23,
   "id": "7f84d152-c79b-4711-b66f-962a339462fb",
   "metadata": {},
   "outputs": [
    {
     "name": "stdout",
     "output_type": "stream",
     "text": [
      "45000 5000\n"
     ]
    }
   ],
   "source": [
    "print(len(train_index),len(test_index))"
   ]
  },
  {
   "cell_type": "code",
   "execution_count": 28,
   "id": "2d005f0a-baf8-4910-8c86-1b4e27bde7ae",
   "metadata": {},
   "outputs": [],
   "source": [
    "test_df = df.iloc[test_index]"
   ]
  },
  {
   "cell_type": "code",
   "execution_count": 33,
   "id": "fe3cf9d1-0e7b-486c-8b86-ec5bdc827391",
   "metadata": {},
   "outputs": [
    {
     "name": "stderr",
     "output_type": "stream",
     "text": [
      "C:\\Users\\shakt\\AppData\\Local\\Temp\\ipykernel_22660\\929408193.py:1: SettingWithCopyWarning: \n",
      "A value is trying to be set on a copy of a slice from a DataFrame.\n",
      "Try using .loc[row_indexer,col_indexer] = value instead\n",
      "\n",
      "See the caveats in the documentation: https://pandas.pydata.org/pandas-docs/stable/user_guide/indexing.html#returning-a-view-versus-a-copy\n",
      "  test_df['predicted_sentiment'] =  test_df['small_review'].apply(lambda x : predict_sentiment(x)[1].item()).round()\n"
     ]
    }
   ],
   "source": [
    "test_df['predicted_sentiment'] =  test_df['small_review'].apply(lambda x : predict_sentiment(x)[1].item()).round()"
   ]
  },
  {
   "cell_type": "code",
   "execution_count": 34,
   "id": "e0f0533d-7c5f-49df-8e2c-dc179f1f087e",
   "metadata": {},
   "outputs": [],
   "source": [
    "test_df.to_csv(\"predicted_test_df.csv\",index=False)"
   ]
  },
  {
   "cell_type": "code",
   "execution_count": 48,
   "id": "5b70d206-6412-499c-b455-f711c395ef37",
   "metadata": {},
   "outputs": [],
   "source": [
    "result_wrong_df = test_df.loc[abs(test_df['sentiment'].astype(float) - test_df['predicted_sentiment']).astype(bool)]"
   ]
  },
  {
   "cell_type": "code",
   "execution_count": 49,
   "id": "cd0e6dae-f166-4874-a346-74d9a0ff1238",
   "metadata": {},
   "outputs": [],
   "source": [
    "result_wrong_df.to_csv(\"result_wrong_df.csv\",index=False)"
   ]
  },
  {
   "cell_type": "code",
   "execution_count": null,
   "id": "7a3ccde0-33a6-4881-9120-5e2d15c7e6eb",
   "metadata": {},
   "outputs": [],
   "source": []
  }
 ],
 "metadata": {
  "kernelspec": {
   "display_name": "Python 3 (ipykernel)",
   "language": "python",
   "name": "python3"
  },
  "language_info": {
   "codemirror_mode": {
    "name": "ipython",
    "version": 3
   },
   "file_extension": ".py",
   "mimetype": "text/x-python",
   "name": "python",
   "nbconvert_exporter": "python",
   "pygments_lexer": "ipython3",
   "version": "3.10.11"
  }
 },
 "nbformat": 4,
 "nbformat_minor": 5
}
