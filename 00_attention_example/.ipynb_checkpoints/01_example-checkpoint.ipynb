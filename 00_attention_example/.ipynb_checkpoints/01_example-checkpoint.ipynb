{
 "cells": [
  {
   "cell_type": "code",
   "execution_count": 1,
   "id": "1bd97c3b-491f-47f5-a3e6-2793fcbcf3ae",
   "metadata": {},
   "outputs": [],
   "source": [
    "import numpy as np\n",
    "import random, string\n",
    "from collections import Counter, OrderedDict\n",
    "from sklearn.preprocessing import LabelEncoder, OneHotEncoder\n",
    "import numpy as np"
   ]
  },
  {
   "cell_type": "code",
   "execution_count": 2,
   "id": "0fa3834d-3ad4-4a63-a262-2af8938c0462",
   "metadata": {},
   "outputs": [],
   "source": [
    "class Task(object):\n",
    "    def __init__(self, max_len=10, vocab_size=3):\n",
    "        self.vocab_size = vocab_size\n",
    "        self.max_len =  max_len\n",
    "        self.universe = string.ascii_uppercase[0:self.vocab_size]\n",
    "        alphabet_list = list(self.universe)\n",
    "        self.label_encoder = LabelEncoder()\n",
    "        numeric_labels = self.label_encoder.fit_transform(alphabet_list)\n",
    "        numeric_labels = numeric_labels.reshape(-1, 1)\n",
    "        self.one_hot_encoder = OneHotEncoder(sparse_output=False)\n",
    "        self.one_hot_encoder.fit(numeric_labels)\n",
    "        \n",
    "        \n",
    "    def next_batch(self, batchsize=5):\n",
    "        x_batch = []\n",
    "        y_batch = []\n",
    "        for b in range(0,batchsize):\n",
    "            alphabets = []\n",
    "            for i in range(self.max_len):\n",
    "                alphabets.append(random.choice(self.universe))\n",
    "                #alphabets.append(random.randint(1,self.vocab_size))\n",
    "            count_alphabets = Counter(alphabets)\n",
    "            #sorted_count_alphabets = sorted(count_alphabets.items(self.universe), key=lambda pair: pair[0])\n",
    "            m = dict(count_alphabets.most_common())\n",
    "            print('x',alphabets)\n",
    "            numeric_labels = self.label_encoder.transform(alphabets)\n",
    "            numeric_labels = numeric_labels.reshape(-1, 1)\n",
    "            print('x numeric',numeric_labels)\n",
    "            x = self.one_hot_encoder.transform(numeric_labels)\n",
    "            print('x one hot',x)\n",
    "            y = [m.get(k,0) for k in self.universe]\n",
    "            print('y',y)\n",
    "            x_batch.append(x)\n",
    "            y_batch.append(y)\n",
    "            print('#########################################')\n",
    "        return np.array(x_batch), np.array(y_batch)\n"
   ]
  },
  {
   "cell_type": "code",
   "execution_count": null,
   "id": "1363f8f6-6125-4f95-9a2d-4109a060ca23",
   "metadata": {},
   "outputs": [],
   "source": []
  },
  {
   "cell_type": "code",
   "execution_count": 3,
   "id": "60876809-1209-4082-a00f-4f9e94e9c251",
   "metadata": {},
   "outputs": [],
   "source": [
    "task = Task(max_len=5,vocab_size=3)"
   ]
  },
  {
   "cell_type": "code",
   "execution_count": 4,
   "id": "e370b226-cfeb-4903-a953-14688ddc1c0a",
   "metadata": {},
   "outputs": [
    {
     "name": "stdout",
     "output_type": "stream",
     "text": [
      "x ['C', 'B', 'B', 'B', 'B']\n",
      "x numeric [[2]\n",
      " [1]\n",
      " [1]\n",
      " [1]\n",
      " [1]]\n",
      "x one hot [[0. 0. 1.]\n",
      " [0. 1. 0.]\n",
      " [0. 1. 0.]\n",
      " [0. 1. 0.]\n",
      " [0. 1. 0.]]\n",
      "y [0, 4, 1]\n",
      "~~~~~~~~~~~~~~~~~~~~~~~~~~~~~~~~~~~~~~\n",
      "x ['C', 'C', 'B', 'B', 'C']\n",
      "x numeric [[2]\n",
      " [2]\n",
      " [1]\n",
      " [1]\n",
      " [2]]\n",
      "x one hot [[0. 0. 1.]\n",
      " [0. 0. 1.]\n",
      " [0. 1. 0.]\n",
      " [0. 1. 0.]\n",
      " [0. 0. 1.]]\n",
      "y [0, 2, 3]\n",
      "~~~~~~~~~~~~~~~~~~~~~~~~~~~~~~~~~~~~~~\n",
      "x ['B', 'B', 'C', 'C', 'B']\n",
      "x numeric [[1]\n",
      " [1]\n",
      " [2]\n",
      " [2]\n",
      " [1]]\n",
      "x one hot [[0. 1. 0.]\n",
      " [0. 1. 0.]\n",
      " [0. 0. 1.]\n",
      " [0. 0. 1.]\n",
      " [0. 1. 0.]]\n",
      "y [0, 3, 2]\n",
      "~~~~~~~~~~~~~~~~~~~~~~~~~~~~~~~~~~~~~~\n",
      "x ['B', 'C', 'C', 'B', 'A']\n",
      "x numeric [[1]\n",
      " [2]\n",
      " [2]\n",
      " [1]\n",
      " [0]]\n",
      "x one hot [[0. 1. 0.]\n",
      " [0. 0. 1.]\n",
      " [0. 0. 1.]\n",
      " [0. 1. 0.]\n",
      " [1. 0. 0.]]\n",
      "y [1, 2, 2]\n",
      "~~~~~~~~~~~~~~~~~~~~~~~~~~~~~~~~~~~~~~\n",
      "x ['B', 'C', 'B', 'A', 'B']\n",
      "x numeric [[1]\n",
      " [2]\n",
      " [1]\n",
      " [0]\n",
      " [1]]\n",
      "x one hot [[0. 1. 0.]\n",
      " [0. 0. 1.]\n",
      " [0. 1. 0.]\n",
      " [1. 0. 0.]\n",
      " [0. 1. 0.]]\n",
      "y [1, 3, 1]\n",
      "~~~~~~~~~~~~~~~~~~~~~~~~~~~~~~~~~~~~~~\n"
     ]
    }
   ],
   "source": [
    "x, y = task.next_batch(batchsize=5)"
   ]
  },
  {
   "cell_type": "code",
   "execution_count": null,
   "id": "96d2c9b5-ec61-4748-9ea6-e5531748dc9b",
   "metadata": {},
   "outputs": [],
   "source": []
  }
 ],
 "metadata": {
  "kernelspec": {
   "display_name": "Python 3 (ipykernel)",
   "language": "python",
   "name": "python3"
  },
  "language_info": {
   "codemirror_mode": {
    "name": "ipython",
    "version": 3
   },
   "file_extension": ".py",
   "mimetype": "text/x-python",
   "name": "python",
   "nbconvert_exporter": "python",
   "pygments_lexer": "ipython3",
   "version": "3.10.11"
  }
 },
 "nbformat": 4,
 "nbformat_minor": 5
}
