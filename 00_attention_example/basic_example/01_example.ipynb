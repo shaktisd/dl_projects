{
 "cells": [
  {
   "cell_type": "code",
   "execution_count": 40,
   "id": "1bd97c3b-491f-47f5-a3e6-2793fcbcf3ae",
   "metadata": {},
   "outputs": [],
   "source": [
    "import numpy as np\n",
    "import random, string\n",
    "from collections import Counter, OrderedDict\n",
    "from sklearn.preprocessing import LabelEncoder, OneHotEncoder\n",
    "import numpy as np"
   ]
  },
  {
   "cell_type": "code",
   "execution_count": 41,
   "id": "0fa3834d-3ad4-4a63-a262-2af8938c0462",
   "metadata": {},
   "outputs": [],
   "source": [
    "class Task(object):\n",
    "    def __init__(self, max_len=10, vocab_size=3, batch_size=5):\n",
    "        self.vocab_size = vocab_size\n",
    "        self.max_len = max_len\n",
    "        self.universe = string.ascii_uppercase[0:self.vocab_size]\n",
    "        alphabet_list = list(self.universe)\n",
    "        self.label_encoder = LabelEncoder()\n",
    "        numeric_labels = self.label_encoder.fit_transform(alphabet_list)\n",
    "        numeric_labels = numeric_labels.reshape(-1, 1)\n",
    "        self.one_hot_encoder = OneHotEncoder(sparse_output=False)\n",
    "        self.one_hot_encoder.fit(numeric_labels)\n",
    "        self.batch_size = batch_size\n",
    "\n",
    "    def next_batch(self):\n",
    "        x_batch = []\n",
    "        y_batch = []\n",
    "        for b in range(0, self.batch_size):\n",
    "            alphabets = []\n",
    "            for i in range(self.max_len):\n",
    "                alphabets.append(random.choice(self.universe))\n",
    "                # alphabets.append(random.randint(1,self.vocab_size))\n",
    "            count_alphabets = Counter(alphabets)\n",
    "            m = dict(count_alphabets.most_common())\n",
    "            #print('x', alphabets)\n",
    "            numeric_labels = self.label_encoder.transform(alphabets)\n",
    "            numeric_labels = numeric_labels.reshape(-1, 1)\n",
    "            #print('x numeric', numeric_labels)\n",
    "            x = self.one_hot_encoder.transform(numeric_labels)\n",
    "            #print('x one hot', x)\n",
    "            y = [[m.get(k, 0)] for k in self.universe]\n",
    "            #print('y', y)\n",
    "            x_batch.append(x)\n",
    "            y_batch.append(y)\n",
    "            #print('~~~~~~~~~~~~~~~~~~~~~~~~~~~~~~~~~~~~~~')\n",
    "        return torch.tensor(x_batch, dtype=torch.float),torch.tensor(y_batch, dtype=torch.float)\n"
   ]
  },
  {
   "cell_type": "code",
   "execution_count": 42,
   "id": "60876809-1209-4082-a00f-4f9e94e9c251",
   "metadata": {},
   "outputs": [],
   "source": [
    "task = Task(max_len=5,vocab_size=3, batch_size=8)"
   ]
  },
  {
   "cell_type": "code",
   "execution_count": 50,
   "id": "e370b226-cfeb-4903-a953-14688ddc1c0a",
   "metadata": {},
   "outputs": [],
   "source": [
    "x, y = task.next_batch()"
   ]
  },
  {
   "cell_type": "code",
   "execution_count": 51,
   "id": "8aeb341c-4792-471d-892b-34b6d5ac41a8",
   "metadata": {},
   "outputs": [
    {
     "data": {
      "text/plain": [
       "torch.Size([8, 5, 3])"
      ]
     },
     "execution_count": 51,
     "metadata": {},
     "output_type": "execute_result"
    }
   ],
   "source": [
    "x.shape"
   ]
  },
  {
   "cell_type": "code",
   "execution_count": 52,
   "id": "96d2c9b5-ec61-4748-9ea6-e5531748dc9b",
   "metadata": {},
   "outputs": [
    {
     "data": {
      "text/plain": [
       "torch.Size([8, 5, 3])"
      ]
     },
     "execution_count": 52,
     "metadata": {},
     "output_type": "execute_result"
    }
   ],
   "source": [
    "x1 = x.squeeze(2)\n",
    "x1.shape"
   ]
  },
  {
   "cell_type": "code",
   "execution_count": 36,
   "id": "d59c9bf5-c850-41f8-9ce6-0c42712af7d5",
   "metadata": {
    "collapsed": true,
    "jupyter": {
     "outputs_hidden": true
    }
   },
   "outputs": [
    {
     "data": {
      "text/plain": [
       "tensor([[[2.],\n",
       "         [2.],\n",
       "         [1.]],\n",
       "\n",
       "        [[0.],\n",
       "         [2.],\n",
       "         [3.]],\n",
       "\n",
       "        [[3.],\n",
       "         [0.],\n",
       "         [2.]],\n",
       "\n",
       "        [[0.],\n",
       "         [3.],\n",
       "         [2.]],\n",
       "\n",
       "        [[3.],\n",
       "         [1.],\n",
       "         [1.]],\n",
       "\n",
       "        [[3.],\n",
       "         [1.],\n",
       "         [1.]],\n",
       "\n",
       "        [[2.],\n",
       "         [3.],\n",
       "         [0.]],\n",
       "\n",
       "        [[2.],\n",
       "         [1.],\n",
       "         [2.]]])"
      ]
     },
     "execution_count": 36,
     "metadata": {},
     "output_type": "execute_result"
    }
   ],
   "source": [
    "y"
   ]
  },
  {
   "cell_type": "code",
   "execution_count": 34,
   "id": "981862b6-7646-477e-8ab1-fd31d58b9eb7",
   "metadata": {},
   "outputs": [
    {
     "data": {
      "text/plain": [
       "torch.Size([8, 3, 1])"
      ]
     },
     "execution_count": 34,
     "metadata": {},
     "output_type": "execute_result"
    }
   ],
   "source": [
    "y.shape"
   ]
  },
  {
   "cell_type": "code",
   "execution_count": 35,
   "id": "ac97814c-68ac-4863-bf19-0adc48adf9b6",
   "metadata": {},
   "outputs": [
    {
     "data": {
      "text/plain": [
       "tensor([[2.],\n",
       "        [2.],\n",
       "        [1.]])"
      ]
     },
     "execution_count": 35,
     "metadata": {},
     "output_type": "execute_result"
    }
   ],
   "source": [
    "y[0]"
   ]
  },
  {
   "cell_type": "code",
   "execution_count": 39,
   "id": "80c5ef23-2e86-440b-809e-d6e1ce20a42a",
   "metadata": {},
   "outputs": [
    {
     "data": {
      "text/plain": [
       "tensor([[2],\n",
       "        [3],\n",
       "        [1]])"
      ]
     },
     "execution_count": 39,
     "metadata": {},
     "output_type": "execute_result"
    }
   ],
   "source": [
    "y.argmax(dim=0)"
   ]
  },
  {
   "cell_type": "code",
   "execution_count": 38,
   "id": "a389c0a9-c263-4890-b852-d284a02eae25",
   "metadata": {},
   "outputs": [
    {
     "data": {
      "text/plain": [
       "tensor([[[2.],\n",
       "         [2.],\n",
       "         [1.]],\n",
       "\n",
       "        [[0.],\n",
       "         [2.],\n",
       "         [3.]],\n",
       "\n",
       "        [[3.],\n",
       "         [0.],\n",
       "         [2.]],\n",
       "\n",
       "        [[0.],\n",
       "         [3.],\n",
       "         [2.]],\n",
       "\n",
       "        [[3.],\n",
       "         [1.],\n",
       "         [1.]],\n",
       "\n",
       "        [[3.],\n",
       "         [1.],\n",
       "         [1.]],\n",
       "\n",
       "        [[2.],\n",
       "         [3.],\n",
       "         [0.]],\n",
       "\n",
       "        [[2.],\n",
       "         [1.],\n",
       "         [2.]]])"
      ]
     },
     "execution_count": 38,
     "metadata": {},
     "output_type": "execute_result"
    }
   ],
   "source": [
    "y"
   ]
  },
  {
   "cell_type": "code",
   "execution_count": null,
   "id": "64bb4320-71c5-45c2-9c5f-25c5a11ceeb8",
   "metadata": {},
   "outputs": [],
   "source": []
  }
 ],
 "metadata": {
  "kernelspec": {
   "display_name": "Python 3 (ipykernel)",
   "language": "python",
   "name": "python3"
  },
  "language_info": {
   "codemirror_mode": {
    "name": "ipython",
    "version": 3
   },
   "file_extension": ".py",
   "mimetype": "text/x-python",
   "name": "python",
   "nbconvert_exporter": "python",
   "pygments_lexer": "ipython3",
   "version": "3.10.11"
  }
 },
 "nbformat": 4,
 "nbformat_minor": 5
}
